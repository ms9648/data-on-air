{
 "cells": [
  {
   "cell_type": "markdown",
   "metadata": {},
   "source": [
    "# 3일차: 파이썬 라이브러리 사용법 교육 및 실습 2"
   ]
  },
  {
   "cell_type": "markdown",
   "metadata": {},
   "source": [
    "## 1. NumPy\n",
    "### 파일 불러오기\n",
    "- csv 파일\n",
    "    - csv는 정형 텍스트 파일 포맷으로 테이블형이나 테이블형에 가까운 데이터\n",
    "    - csv는 변수를 표현하는 열과 레코드를 표현하는 행으로 구성되어 있음\n",
    "    - 레코드 하나에 속한 필드들은 보통 쉼표로 구분"
   ]
  },
  {
   "cell_type": "code",
   "execution_count": 1,
   "metadata": {},
   "outputs": [],
   "source": [
    "import pandas as pd\n",
    "import numpy as np"
   ]
  },
  {
   "cell_type": "code",
   "execution_count": 4,
   "metadata": {},
   "outputs": [
    {
     "data": {
      "text/plain": [
       "array([[ 3.51,  9.4 ,  5.  ],\n",
       "       [ 3.2 ,  9.8 ,  5.  ],\n",
       "       [ 3.26,  9.8 ,  5.  ],\n",
       "       [ 3.16,  9.8 ,  6.  ],\n",
       "       [ 3.51,  9.4 ,  5.  ],\n",
       "       [ 3.51,  9.4 ,  5.  ],\n",
       "       [ 3.3 ,  9.4 ,  5.  ],\n",
       "       [ 3.39, 10.  ,  7.  ],\n",
       "       [ 3.36,  9.5 ,  7.  ],\n",
       "       [ 3.35, 10.5 ,  5.  ],\n",
       "       [ 3.28,  9.2 ,  5.  ],\n",
       "       [ 3.35, 10.5 ,  5.  ],\n",
       "       [ 3.58,  9.9 ,  5.  ],\n",
       "       [ 3.26,  9.1 ,  5.  ],\n",
       "       [ 3.16,  9.2 ,  5.  ],\n",
       "       [ 3.17,  9.2 ,  5.  ],\n",
       "       [ 3.3 , 10.5 ,  7.  ],\n",
       "       [ 3.11,  9.3 ,  5.  ],\n",
       "       [ 3.38,  9.  ,  4.  ],\n",
       "       [ 3.04,  9.2 ,  6.  ],\n",
       "       [ 3.39,  9.4 ,  6.  ],\n",
       "       [ 3.52,  9.7 ,  5.  ],\n",
       "       [ 3.17,  9.5 ,  5.  ],\n",
       "       [ 3.17,  9.4 ,  5.  ],\n",
       "       [ 3.43,  9.7 ,  6.  ],\n",
       "       [ 3.34,  9.3 ,  5.  ],\n",
       "       [ 3.28,  9.5 ,  5.  ],\n",
       "       [ 3.17,  9.5 ,  5.  ],\n",
       "       [ 3.47,  9.4 ,  5.  ],\n",
       "       [ 3.38,  9.8 ,  6.  ],\n",
       "       [ 3.35, 10.1 ,  5.  ],\n",
       "       [ 3.46, 10.6 ,  6.  ],\n",
       "       [ 3.17,  9.8 ,  5.  ],\n",
       "       [ 3.45,  9.4 ,  6.  ],\n",
       "       [ 3.38,  9.2 ,  5.  ],\n",
       "       [ 3.4 ,  9.6 ,  6.  ],\n",
       "       [ 3.42, 10.8 ,  6.  ],\n",
       "       [ 3.23,  9.7 ,  7.  ],\n",
       "       [ 3.5 ,  9.8 ,  4.  ],\n",
       "       [ 3.33, 10.5 ,  5.  ],\n",
       "       [ 3.33, 10.5 ,  5.  ],\n",
       "       [ 3.26,  9.3 ,  4.  ],\n",
       "       [ 3.21, 10.5 ,  6.  ],\n",
       "       [ 3.3 , 10.3 ,  5.  ],\n",
       "       [ 3.48,  9.5 ,  5.  ],\n",
       "       [ 3.9 , 13.1 ,  4.  ],\n",
       "       [ 3.25,  9.2 ,  5.  ],\n",
       "       [ 3.25,  9.5 ,  5.  ],\n",
       "       [ 3.34,  9.2 ,  5.  ],\n",
       "       [ 3.32,  9.2 ,  5.  ],\n",
       "       [ 3.15,  9.2 ,  5.  ],\n",
       "       [ 3.4 ,  9.4 ,  6.  ],\n",
       "       [ 3.39,  9.4 ,  6.  ],\n",
       "       [ 3.2 ,  9.4 ,  5.  ],\n",
       "       [ 3.17, 10.2 ,  6.  ],\n",
       "       [ 3.34,  9.5 ,  5.  ],\n",
       "       [ 3.04,  9.6 ,  5.  ],\n",
       "       [ 3.26,  9.4 ,  5.  ],\n",
       "       [ 3.43, 10.  ,  5.  ],\n",
       "       [ 3.41,  9.4 ,  6.  ],\n",
       "       [ 3.44,  9.2 ,  5.  ],\n",
       "       [ 3.21,  9.3 ,  5.  ],\n",
       "       [ 3.38,  9.5 ,  7.  ],\n",
       "       [ 3.39,  9.8 ,  5.  ],\n",
       "       [ 3.41, 10.9 ,  5.  ],\n",
       "       [ 3.41, 10.9 ,  5.  ],\n",
       "       [ 3.42,  9.6 ,  5.  ],\n",
       "       [ 3.44, 10.7 ,  5.  ],\n",
       "       [ 3.28, 10.7 ,  5.  ],\n",
       "       [ 3.34, 10.5 ,  6.  ],\n",
       "       [ 3.32,  9.5 ,  6.  ],\n",
       "       [ 3.32,  9.5 ,  5.  ],\n",
       "       [ 3.31,  9.5 ,  5.  ],\n",
       "       [ 3.31,  9.2 ,  4.  ],\n",
       "       [ 3.28,  9.6 ,  5.  ],\n",
       "       [ 3.54, 10.5 ,  5.  ],\n",
       "       [ 3.54, 10.5 ,  5.  ],\n",
       "       [ 3.52, 10.7 ,  6.  ],\n",
       "       [ 3.38, 10.1 ,  5.  ],\n",
       "       [ 3.16,  9.1 ,  4.  ],\n",
       "       [ 3.41,  9.2 ,  5.  ],\n",
       "       [ 3.13,  9.4 ,  5.  ],\n",
       "       [ 3.36,  9.1 ,  5.  ],\n",
       "       [ 3.16,  9.4 ,  5.  ],\n",
       "       [ 3.44, 10.3 ,  6.  ],\n",
       "       [ 3.41, 10.1 ,  5.  ],\n",
       "       [ 2.93,  9.9 ,  6.  ],\n",
       "       [ 3.39,  9.6 ,  5.  ],\n",
       "       [ 3.14,  9.5 ,  5.  ],\n",
       "       [ 3.48,  9.  ,  5.  ],\n",
       "       [ 3.23,  9.5 ,  5.  ],\n",
       "       [ 2.93,  9.9 ,  6.  ],\n",
       "       [ 2.93,  9.8 ,  5.  ],\n",
       "       [ 3.39,  9.6 ,  5.  ],\n",
       "       [ 3.75, 10.5 ,  4.  ],\n",
       "       [ 3.85, 12.9 ,  6.  ],\n",
       "       [ 3.45, 10.7 ,  5.  ],\n",
       "       [ 3.25,  9.2 ,  5.  ],\n",
       "       [ 3.39,  9.8 ,  5.  ],\n",
       "       [ 3.3 ,  9.  ,  6.  ]])"
      ]
     },
     "execution_count": 4,
     "metadata": {},
     "output_type": "execute_result"
    }
   ],
   "source": [
    "# 파일 불러오기\n",
    "# fname: 파일 경로와 이름\n",
    "# delimeter: csv 파일의 구분자\n",
    "# 변수명인 첫 행은 불러오지 않음\n",
    "# savetxt() 함수를 이용해 텍스트 파일로 저장할 수 있음\n",
    "redwine = np.loadtxt(fname = \"wine_red.csv\", delimiter=\";\", skiprows=1)\n",
    "redwine"
   ]
  },
  {
   "cell_type": "code",
   "execution_count": 14,
   "metadata": {},
   "outputs": [
    {
     "data": {
      "text/plain": [
       "array([3.3334, 9.783 , 5.25  ])"
      ]
     },
     "execution_count": 14,
     "metadata": {},
     "output_type": "execute_result"
    }
   ],
   "source": [
    "# 연습문제\n",
    "# redwine의 변수(열, column)별 평균값을 구하시오.\n",
    "redwine.sum(axis=0)/len(redwine)"
   ]
  },
  {
   "cell_type": "code",
   "execution_count": 19,
   "metadata": {},
   "outputs": [
    {
     "data": {
      "text/plain": [
       "9.783000000000001"
      ]
     },
     "execution_count": 19,
     "metadata": {},
     "output_type": "execute_result"
    }
   ],
   "source": [
    "# redwine의 alcohol 평균값만 구하시오.\n",
    "(redwine.sum(axis = 0)/len(redwine))[1]"
   ]
  },
  {
   "cell_type": "code",
   "execution_count": 35,
   "metadata": {},
   "outputs": [
    {
     "data": {
      "text/plain": [
       "62"
      ]
     },
     "execution_count": 35,
     "metadata": {},
     "output_type": "execute_result"
    }
   ],
   "source": [
    "# alcohol이 9.5 이상인 와인은 몇 개인지 구하시오.\n",
    "(redwine[:,1]>=9.5).sum()"
   ]
  },
  {
   "cell_type": "code",
   "execution_count": 40,
   "metadata": {},
   "outputs": [
    {
     "data": {
      "text/plain": [
       "10.1"
      ]
     },
     "execution_count": 40,
     "metadata": {},
     "output_type": "execute_result"
    }
   ],
   "source": [
    "# alcohol이 9.5 이상인 와인의 평균 alcohol 값은 얼마인지 구하시오\n",
    "redwine[:,1][redwine[:,1] >= 9.5].sum() / (redwine[:,1]>=9.5).sum()"
   ]
  },
  {
   "cell_type": "markdown",
   "metadata": {},
   "source": [
    "### 그래프 그리기\n",
    "Matplotlib 모듈\n",
    "- 배열에서 도표를 만들고 시각화 하는데 필요한 함수를 갖고 있는 모듈\n",
    "matplotlib.pyplot\n",
    "- matplotlib 중 그래프를 그리는 모듈\n",
    "- 관례적으로 plt로 불러옴 (import matplotlib.pyplot as plt)\n",
    "\n",
    "%matplotlib inline: 그래프의 결과를 출력 세션에 나타나게 함"
   ]
  },
  {
   "cell_type": "code",
   "execution_count": 41,
   "metadata": {},
   "outputs": [],
   "source": [
    "import matplotlib.pyplot as plt\n",
    "%matplotlib inline"
   ]
  },
  {
   "cell_type": "code",
   "execution_count": 48,
   "metadata": {},
   "outputs": [
    {
     "data": {
      "text/plain": [
       "(array([ 0.,  1.,  2.,  3.,  4.,  5.,  6.,  7.,  8.,  9., 10.]),\n",
       " array([ 0.43211121,  2.17421526,  4.17094369,  6.82763225,  8.58717126,\n",
       "        10.45935375, 12.82268476, 14.82154811, 16.30712025, 18.20089438,\n",
       "        20.40323246]))"
      ]
     },
     "execution_count": 48,
     "metadata": {},
     "output_type": "execute_result"
    }
   ],
   "source": [
    "np.random.seed(103)\n",
    "x = np.linspace(0, 10, 11)\n",
    "y = x*2 + np.random.rand(11)\n",
    "\n",
    "x, y"
   ]
  },
  {
   "cell_type": "code",
   "execution_count": 50,
   "metadata": {},
   "outputs": [
    {
     "data": {
      "text/plain": [
       "[<matplotlib.lines.Line2D at 0x185975d93d0>]"
      ]
     },
     "execution_count": 50,
     "metadata": {},
     "output_type": "execute_result"
    },
    {
     "data": {
      "image/png": "[encoded data removed]",
      "text/plain": [
       "<Figure size 432x288 with 1 Axes>"
      ]
     },
     "metadata": {
      "needs_background": "light"
     },
     "output_type": "display_data"
    }
   ],
   "source": [
    "plt.plot(x, y)"
   ]
  },
  {
   "cell_type": "code",
   "execution_count": 52,
   "metadata": {},
   "outputs": [
    {
     "data": {
      "text/plain": [
       "<matplotlib.collections.PathCollection at 0x185976c71c0>"
      ]
     },
     "execution_count": 52,
     "metadata": {},
     "output_type": "execute_result"
    },
    {
     "data": {
      "image/png": "[encoded data removed]",
      "text/plain": [
       "<Figure size 432x288 with 1 Axes>"
      ]
     },
     "metadata": {
      "needs_background": "light"
     },
     "output_type": "display_data"
    }
   ],
   "source": [
    "plt.scatter(x, y)"
   ]
  },
  {
   "cell_type": "code",
   "execution_count": 55,
   "metadata": {},
   "outputs": [
    {
     "data": {
      "text/plain": [
       "[<matplotlib.lines.Line2D at 0x18597814790>]"
      ]
     },
     "execution_count": 55,
     "metadata": {},
     "output_type": "execute_result"
    },
    {
     "data": {
      "image/png": "[encoded data removed]",
      "text/plain": [
       "<Figure size 432x288 with 1 Axes>"
      ]
     },
     "metadata": {
      "needs_background": "light"
     },
     "output_type": "display_data"
    }
   ],
   "source": [
    "plt.xlabel('x label') # x축 제목\n",
    "plt.ylabel('y label') # y축 제목\n",
    "plt.title(\"x-y title\") # 그래프 제목\n",
    "plt.grid(True) # 눈금 추가\n",
    "\n",
    "plt.xlim(0, 7) # x축 범위 지정\n",
    "plt.ylim(0, 10) # y축 범위 지정\n",
    "\n",
    "plt.plot(x, y)"
   ]
  },
  {
   "cell_type": "code",
   "execution_count": 57,
   "metadata": {},
   "outputs": [
    {
     "name": "stdout",
     "output_type": "stream",
     "text": [
      "[ 8 74 20 92 58 71 29 22 24 56 13 96 85 46 91 71 14 34 11 21 73 30 82 98\n",
      " 55  1 75 70 52 41 88 30  7 40 15 12 18 30 95 88 73 32 84 86  2 89 18 78\n",
      " 96 21 25 42 70 54 54 17 15 79 95 30 87 34 39 92 36 69 21 83 45 63 93 27\n",
      " 51 57 33  2 99 97 30  3 89 16 62 93 61 87 73 68 61 58  1 48 83 23 55 96\n",
      " 80  6 35 41]\n"
     ]
    }
   ],
   "source": [
    "np.random.seed(103)\n",
    "data = np.random.randint(1, 100, size = 100)\n",
    "print(data)"
   ]
  },
  {
   "cell_type": "code",
   "execution_count": 59,
   "metadata": {},
   "outputs": [
    {
     "data": {
      "image/png": "[encoded data removed]",
      "text/plain": [
       "<Figure size 432x288 with 1 Axes>"
      ]
     },
     "metadata": {
      "needs_background": "light"
     },
     "output_type": "display_data"
    }
   ],
   "source": [
    "plt.hist(data, bins = 10, alpha = 0.3) # bins로 히스토그램 바의 개수 설정\n",
    "plt.grid(True)"
   ]
  },
  {
   "cell_type": "code",
   "execution_count": 76,
   "metadata": {},
   "outputs": [
    {
     "data": {
      "text/plain": [
       "[<matplotlib.lines.Line2D at 0x18598d4aeb0>]"
      ]
     },
     "execution_count": 76,
     "metadata": {},
     "output_type": "execute_result"
    },
    {
     "data": {
      "image/png": "[encoded data removed]",
      "text/plain": [
       "<Figure size 432x288 with 1 Axes>"
      ]
     },
     "metadata": {
      "needs_background": "light"
     },
     "output_type": "display_data"
    }
   ],
   "source": [
    "plt.plot(x, y,\"red\", linewidth = 5) # 색상, 두께 번경\n",
    "plt.plot(x, y,\"^\", linewidth = 5) # 선 모양 변경"
   ]
  },
  {
   "cell_type": "code",
   "execution_count": 79,
   "metadata": {},
   "outputs": [
    {
     "data": {
      "text/plain": [
       "[<matplotlib.lines.Line2D at 0x18598e9a520>]"
      ]
     },
     "execution_count": 79,
     "metadata": {},
     "output_type": "execute_result"
    },
    {
     "data": {
      "image/png": "[encoded data removed]",
      "text/plain": [
       "<Figure size 432x288 with 1 Axes>"
      ]
     },
     "metadata": {
      "needs_background": "light"
     },
     "output_type": "display_data"
    }
   ],
   "source": [
    "plt.plot(x, y, color = \"gray\",\n",
    "linestyle = \"-.\", linewidth = 3,\n",
    "marker = \"^\", markerfacecolor = \"blue\",\n",
    "markersize = 15)"
   ]
  },
  {
   "cell_type": "code",
   "execution_count": 81,
   "metadata": {},
   "outputs": [
    {
     "data": {
      "image/png": "[encoded data removed]",
      "text/plain": [
       "<Figure size 432x288 with 1 Axes>"
      ]
     },
     "metadata": {
      "needs_background": "light"
     },
     "output_type": "display_data"
    }
   ],
   "source": [
    "redwine_alc = redwine[:, 1]\n",
    "plt.hist(redwine_alc, bins = 5)\n",
    "plt.show()"
   ]
  },
  {
   "cell_type": "code",
   "execution_count": 83,
   "metadata": {},
   "outputs": [
    {
     "data": {
      "image/png": "[encoded data removed]",
      "text/plain": [
       "<Figure size 432x288 with 1 Axes>"
      ]
     },
     "metadata": {
      "needs_background": "light"
     },
     "output_type": "display_data"
    }
   ],
   "source": [
    "plt.boxplot(redwine_alc)\n",
    "plt.show()"
   ]
  },
  {
   "cell_type": "markdown",
   "metadata": {},
   "source": [
    "## 2. Pandas\n",
    "- 데이터 분석을 위한 패키지\n",
    "- Pandas는 파일로부터 표로 나타낸 데이터를 불러오는 데 가장 접근하기 쉽고 거의 완벽한 기능을 제공\n",
    "- 시리즈, 데이터프레임이라는 구조를 사용하여 서로 다른 형태 및 시계열 데이터의 복잡한 테이블을 다룰 수 있게 해줌\n",
    "- 데이터 전처리와 시각화에 편리\n",
    "- 관행적으로 pd로 불러옴 (import pandas as pd)"
   ]
  },
  {
   "cell_type": "markdown",
   "metadata": {},
   "source": [
    "### Series\n",
    "- Series는 Pandas의 기본 객체 중 하나\n",
    "- NumPy의 ndarray를 기반으로 인덱싱 기능을 추가하여 1차원 배열을 나타냄\n",
    "    - 즉, index와 value가 존재하며, index와 value로 구성된다는 점에서 value만 갖는 list와 구분됨.\n",
    "    - index는 기본적으로 0, 1, 2, 3 ... 으로 자동 생성\n",
    "- 같은 타입의 0개 이상의 데이터를 가질 수 있음"
   ]
  },
  {
   "cell_type": "code",
   "execution_count": 86,
   "metadata": {},
   "outputs": [
    {
     "data": {
      "text/plain": [
       "a    1\n",
       "b    2\n",
       "c    3\n",
       "dtype: int64"
      ]
     },
     "execution_count": 86,
     "metadata": {},
     "output_type": "execute_result"
    }
   ],
   "source": [
    "s1 = pd.Series([1,2,3], ['a', 'b', 'c'])\n",
    "s1"
   ]
  },
  {
   "cell_type": "code",
   "execution_count": 88,
   "metadata": {},
   "outputs": [
    {
     "data": {
      "text/plain": [
       "a    1\n",
       "b    2\n",
       "c    3\n",
       "dtype: int64"
      ]
     },
     "execution_count": 88,
     "metadata": {},
     "output_type": "execute_result"
    }
   ],
   "source": [
    "s2 = pd.Series([1, 2, 3], index = ['a', 'b', 'c'])\n",
    "s2"
   ]
  },
  {
   "cell_type": "code",
   "execution_count": 90,
   "metadata": {},
   "outputs": [
    {
     "data": {
      "text/plain": [
       "Index(['a', 'b', 'c'], dtype='object')"
      ]
     },
     "execution_count": 90,
     "metadata": {},
     "output_type": "execute_result"
    }
   ],
   "source": [
    "s2.index"
   ]
  },
  {
   "cell_type": "code",
   "execution_count": 92,
   "metadata": {},
   "outputs": [
    {
     "data": {
      "text/plain": [
       "array([1, 2, 3], dtype=int64)"
      ]
     },
     "execution_count": 92,
     "metadata": {},
     "output_type": "execute_result"
    }
   ],
   "source": [
    "s2.values"
   ]
  },
  {
   "cell_type": "code",
   "execution_count": 94,
   "metadata": {},
   "outputs": [
    {
     "data": {
      "text/plain": [
       "1"
      ]
     },
     "execution_count": 94,
     "metadata": {},
     "output_type": "execute_result"
    }
   ],
   "source": [
    "s2['a']"
   ]
  },
  {
   "cell_type": "code",
   "execution_count": 96,
   "metadata": {},
   "outputs": [
    {
     "data": {
      "text/plain": [
       "a    0\n",
       "b    2\n",
       "c    3\n",
       "dtype: int64"
      ]
     },
     "execution_count": 96,
     "metadata": {},
     "output_type": "execute_result"
    }
   ],
   "source": [
    "s2['a'] = 0\n",
    "s2"
   ]
  },
  {
   "cell_type": "code",
   "execution_count": 99,
   "metadata": {},
   "outputs": [
    {
     "data": {
      "text/plain": [
       "0    1.0\n",
       "1    0.0\n",
       "2    3.0\n",
       "3    1.0\n",
       "4    0.0\n",
       "5    2.0\n",
       "6    5.0\n",
       "7    4.0\n",
       "8    3.0\n",
       "9    NaN\n",
       "dtype: float64"
      ]
     },
     "execution_count": 99,
     "metadata": {},
     "output_type": "execute_result"
    }
   ],
   "source": [
    "s = pd.Series([1, 0, 3, 1, 0, 2, 5, 4, 3, np.NaN])\n",
    "s"
   ]
  },
  {
   "cell_type": "code",
   "execution_count": 101,
   "metadata": {},
   "outputs": [
    {
     "data": {
      "text/plain": [
       "10"
      ]
     },
     "execution_count": 101,
     "metadata": {},
     "output_type": "execute_result"
    }
   ],
   "source": [
    "s.size"
   ]
  },
  {
   "cell_type": "code",
   "execution_count": 103,
   "metadata": {},
   "outputs": [
    {
     "data": {
      "text/plain": [
       "(10,)"
      ]
     },
     "execution_count": 103,
     "metadata": {},
     "output_type": "execute_result"
    }
   ],
   "source": [
    "s.shape"
   ]
  },
  {
   "cell_type": "code",
   "execution_count": 104,
   "metadata": {},
   "outputs": [
    {
     "data": {
      "text/plain": [
       "array([ 1.,  0.,  3.,  2.,  5.,  4., nan])"
      ]
     },
     "execution_count": 104,
     "metadata": {},
     "output_type": "execute_result"
    }
   ],
   "source": [
    "s.unique()"
   ]
  },
  {
   "cell_type": "code",
   "execution_count": 105,
   "metadata": {},
   "outputs": [
    {
     "data": {
      "text/plain": [
       "9"
      ]
     },
     "execution_count": 105,
     "metadata": {},
     "output_type": "execute_result"
    }
   ],
   "source": [
    "s.count()"
   ]
  },
  {
   "cell_type": "code",
   "execution_count": 106,
   "metadata": {},
   "outputs": [
    {
     "data": {
      "text/plain": [
       "2.111111111111111"
      ]
     },
     "execution_count": 106,
     "metadata": {},
     "output_type": "execute_result"
    }
   ],
   "source": [
    "s.mean()"
   ]
  },
  {
   "cell_type": "code",
   "execution_count": 108,
   "metadata": {},
   "outputs": [
    {
     "data": {
      "text/plain": [
       "1.0    2\n",
       "0.0    2\n",
       "3.0    2\n",
       "2.0    1\n",
       "5.0    1\n",
       "4.0    1\n",
       "dtype: int64"
      ]
     },
     "execution_count": 108,
     "metadata": {},
     "output_type": "execute_result"
    }
   ],
   "source": [
    "s.value_counts()"
   ]
  },
  {
   "cell_type": "code",
   "execution_count": 114,
   "metadata": {},
   "outputs": [],
   "source": [
    "s = pd.Series(np.arange(10, 20, 2), ['a','b','c','d','e'])"
   ]
  },
  {
   "cell_type": "code",
   "execution_count": 118,
   "metadata": {},
   "outputs": [
    {
     "data": {
      "text/plain": [
       "a    20\n",
       "b    12\n",
       "c    14\n",
       "d    16\n",
       "e    18\n",
       "f    20\n",
       "x    20\n",
       "dtype: int64"
      ]
     },
     "execution_count": 118,
     "metadata": {},
     "output_type": "execute_result"
    }
   ],
   "source": [
    "s['x'] = 20\n",
    "s"
   ]
  },
  {
   "cell_type": "code",
   "execution_count": 126,
   "metadata": {},
   "outputs": [
    {
     "data": {
      "text/html": [
       "<div>\n",
       "<style scoped>\n",
       "    .dataframe tbody tr th:only-of-type {\n",
       "        vertical-align: middle;\n",
       "    }\n",
       "\n",
       "    .dataframe tbody tr th {\n",
       "        vertical-align: top;\n",
       "    }\n",
       "\n",
       "    .dataframe thead th {\n",
       "        text-align: right;\n",
       "    }\n",
       "</style>\n",
       "<table border=\"1\" class=\"dataframe\">\n",
       "  <thead>\n",
       "    <tr style=\"text-align: right;\">\n",
       "      <th></th>\n",
       "      <th>name</th>\n",
       "      <th>price</th>\n",
       "    </tr>\n",
       "  </thead>\n",
       "  <tbody>\n",
       "    <tr>\n",
       "      <th>0</th>\n",
       "      <td>1</td>\n",
       "      <td>fire</td>\n",
       "    </tr>\n",
       "    <tr>\n",
       "      <th>1</th>\n",
       "      <td>2</td>\n",
       "      <td>1</td>\n",
       "    </tr>\n",
       "    <tr>\n",
       "      <th>2</th>\n",
       "      <td>3</td>\n",
       "      <td>2</td>\n",
       "    </tr>\n",
       "  </tbody>\n",
       "</table>\n",
       "</div>"
      ],
      "text/plain": [
       "   name price\n",
       "0     1  fire\n",
       "1     2     1\n",
       "2     3     2"
      ]
     },
     "execution_count": 126,
     "metadata": {},
     "output_type": "execute_result"
    }
   ],
   "source": [
    "f = pd.DataFrame(data = {\n",
    "    'name':[1, 2, 3],\n",
    "    'price':['fire', 1, 2]    \n",
    "})\n",
    "f"
   ]
  }
 ],
 "metadata": {
  "kernelspec": {
   "display_name": "Python 3.9.12 ('base')",
   "language": "python",
   "name": "python3"
  },
  "language_info": {
   "codemirror_mode": {
    "name": "ipython",
    "version": 3
   },
   "file_extension": ".py",
   "mimetype": "text/x-python",
   "name": "python",
   "nbconvert_exporter": "python",
   "pygments_lexer": "ipython3",
   "version": "3.9.12"
  },
  "orig_nbformat": 4,
  "vscode": {
   "interpreter": {
    "hash": "bdb06adadd35cc1660e2115d1967e7b1f6acfe4a82442235dea1e1261608bb95"
   }
  }
 },
 "nbformat": 4,
 "nbformat_minor": 2
}
